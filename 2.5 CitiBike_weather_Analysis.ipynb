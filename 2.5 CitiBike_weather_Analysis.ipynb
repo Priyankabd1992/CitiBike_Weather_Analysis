{
 "cells": [
  {
   "cell_type": "markdown",
   "id": "2b7cf597-de59-4fd4-b27e-ba6dfd238350",
   "metadata": {},
   "source": [
    "### 1. Activated the virtual environment, installed the libraries."
   ]
  },
  {
   "cell_type": "markdown",
   "id": "c5136519-bc5c-4ede-a4b2-45fb2e3943b7",
   "metadata": {},
   "source": [
    "### 2. In a new notebook, import all necessary libraries and read the data."
   ]
  },
  {
   "cell_type": "code",
   "execution_count": 1,
   "id": "4ed19b69-ddb1-4ef5-9eb9-ca679ca8f778",
   "metadata": {},
   "outputs": [],
   "source": [
    "import pandas as pd\n",
    "import matplotlib.pyplot as plt\n",
    "import seaborn as sns\n"
   ]
  },
  {
   "cell_type": "code",
   "execution_count": 3,
   "id": "50a4ff9e-e1ab-4da4-9521-994885850d6a",
   "metadata": {},
   "outputs": [
    {
     "name": "stderr",
     "output_type": "stream",
     "text": [
      "C:\\Users\\sojan\\AppData\\Local\\Temp\\ipykernel_19280\\3565555241.py:5: DtypeWarning: Columns (5,7) have mixed types. Specify dtype option on import or set low_memory=False.\n",
      "  df = pd.read_csv(file_path)\n"
     ]
    },
    {
     "data": {
      "text/html": [
       "<div>\n",
       "<style scoped>\n",
       "    .dataframe tbody tr th:only-of-type {\n",
       "        vertical-align: middle;\n",
       "    }\n",
       "\n",
       "    .dataframe tbody tr th {\n",
       "        vertical-align: top;\n",
       "    }\n",
       "\n",
       "    .dataframe thead th {\n",
       "        text-align: right;\n",
       "    }\n",
       "</style>\n",
       "<table border=\"1\" class=\"dataframe\">\n",
       "  <thead>\n",
       "    <tr style=\"text-align: right;\">\n",
       "      <th></th>\n",
       "      <th>ride_id</th>\n",
       "      <th>rideable_type</th>\n",
       "      <th>started_at</th>\n",
       "      <th>ended_at</th>\n",
       "      <th>start_station_name</th>\n",
       "      <th>start_station_id</th>\n",
       "      <th>end_station_name</th>\n",
       "      <th>end_station_id</th>\n",
       "      <th>start_lat</th>\n",
       "      <th>start_lng</th>\n",
       "      <th>end_lat</th>\n",
       "      <th>end_lng</th>\n",
       "      <th>member_casual</th>\n",
       "      <th>Unnamed: 13</th>\n",
       "      <th>Date_and_time</th>\n",
       "    </tr>\n",
       "  </thead>\n",
       "  <tbody>\n",
       "    <tr>\n",
       "      <th>0</th>\n",
       "      <td>BFD29218AB271154</td>\n",
       "      <td>electric_bike</td>\n",
       "      <td>2022/1/21 13:13</td>\n",
       "      <td>22:31.5</td>\n",
       "      <td>West End Ave &amp; W 107 St</td>\n",
       "      <td>7650.05</td>\n",
       "      <td>Mt Morris Park W &amp; W 120 St</td>\n",
       "      <td>7685.14</td>\n",
       "      <td>40.802117</td>\n",
       "      <td>-73.968181</td>\n",
       "      <td>40.804038</td>\n",
       "      <td>-73.945925</td>\n",
       "      <td>member</td>\n",
       "      <td>NaN</td>\n",
       "      <td>1/21/2022 13:13</td>\n",
       "    </tr>\n",
       "    <tr>\n",
       "      <th>1</th>\n",
       "      <td>7C953F2FD7BE1302</td>\n",
       "      <td>classic_bike</td>\n",
       "      <td>2022/1/10 11:30</td>\n",
       "      <td>41:43.4</td>\n",
       "      <td>4 Ave &amp; 3 St</td>\n",
       "      <td>4028.04</td>\n",
       "      <td>Boerum Pl\\t&amp; Pacific St</td>\n",
       "      <td>4488.09</td>\n",
       "      <td>40.673746</td>\n",
       "      <td>-73.985649</td>\n",
       "      <td>40.688489</td>\n",
       "      <td>-73.991160</td>\n",
       "      <td>member</td>\n",
       "      <td>NaN</td>\n",
       "      <td>1/10/2022 11:30</td>\n",
       "    </tr>\n",
       "    <tr>\n",
       "      <th>2</th>\n",
       "      <td>95893ABD40CED4B8</td>\n",
       "      <td>electric_bike</td>\n",
       "      <td>2022/1/26 10:52</td>\n",
       "      <td>06:35.2</td>\n",
       "      <td>1 Ave &amp; E 62 St</td>\n",
       "      <td>6753.08</td>\n",
       "      <td>5 Ave &amp; E 29 St</td>\n",
       "      <td>6248.06</td>\n",
       "      <td>40.761227</td>\n",
       "      <td>-73.960940</td>\n",
       "      <td>40.745168</td>\n",
       "      <td>-73.986831</td>\n",
       "      <td>member</td>\n",
       "      <td>NaN</td>\n",
       "      <td>1/26/2022 10:52</td>\n",
       "    </tr>\n",
       "    <tr>\n",
       "      <th>3</th>\n",
       "      <td>F853B50772137378</td>\n",
       "      <td>classic_bike</td>\n",
       "      <td>2022/1/3 8:35</td>\n",
       "      <td>10:50.5</td>\n",
       "      <td>2 Ave &amp; E 96 St</td>\n",
       "      <td>7338.02</td>\n",
       "      <td>5 Ave &amp; E 29 St</td>\n",
       "      <td>6248.06</td>\n",
       "      <td>40.783964</td>\n",
       "      <td>-73.947167</td>\n",
       "      <td>40.745168</td>\n",
       "      <td>-73.986831</td>\n",
       "      <td>member</td>\n",
       "      <td>NaN</td>\n",
       "      <td>1/3/2022 8:35</td>\n",
       "    </tr>\n",
       "    <tr>\n",
       "      <th>4</th>\n",
       "      <td>7590ADF834797B4B</td>\n",
       "      <td>classic_bike</td>\n",
       "      <td>2022/1/22 14:14</td>\n",
       "      <td>34:57.5</td>\n",
       "      <td>6 Ave &amp; W 34 St</td>\n",
       "      <td>6364.1</td>\n",
       "      <td>5 Ave &amp; E 29 St</td>\n",
       "      <td>6248.06</td>\n",
       "      <td>40.749640</td>\n",
       "      <td>-73.988050</td>\n",
       "      <td>40.745168</td>\n",
       "      <td>-73.986831</td>\n",
       "      <td>member</td>\n",
       "      <td>NaN</td>\n",
       "      <td>1/22/2022 14:14</td>\n",
       "    </tr>\n",
       "  </tbody>\n",
       "</table>\n",
       "</div>"
      ],
      "text/plain": [
       "            ride_id  rideable_type       started_at ended_at  \\\n",
       "0  BFD29218AB271154  electric_bike  2022/1/21 13:13  22:31.5   \n",
       "1  7C953F2FD7BE1302   classic_bike  2022/1/10 11:30  41:43.4   \n",
       "2  95893ABD40CED4B8  electric_bike  2022/1/26 10:52  06:35.2   \n",
       "3  F853B50772137378   classic_bike    2022/1/3 8:35  10:50.5   \n",
       "4  7590ADF834797B4B   classic_bike  2022/1/22 14:14  34:57.5   \n",
       "\n",
       "        start_station_name start_station_id             end_station_name  \\\n",
       "0  West End Ave & W 107 St          7650.05  Mt Morris Park W & W 120 St   \n",
       "1             4 Ave & 3 St          4028.04      Boerum Pl\\t& Pacific St   \n",
       "2          1 Ave & E 62 St          6753.08              5 Ave & E 29 St   \n",
       "3          2 Ave & E 96 St          7338.02              5 Ave & E 29 St   \n",
       "4          6 Ave & W 34 St           6364.1              5 Ave & E 29 St   \n",
       "\n",
       "  end_station_id  start_lat  start_lng    end_lat    end_lng member_casual  \\\n",
       "0        7685.14  40.802117 -73.968181  40.804038 -73.945925        member   \n",
       "1        4488.09  40.673746 -73.985649  40.688489 -73.991160        member   \n",
       "2        6248.06  40.761227 -73.960940  40.745168 -73.986831        member   \n",
       "3        6248.06  40.783964 -73.947167  40.745168 -73.986831        member   \n",
       "4        6248.06  40.749640 -73.988050  40.745168 -73.986831        member   \n",
       "\n",
       "   Unnamed: 13    Date_and_time  \n",
       "0          NaN  1/21/2022 13:13  \n",
       "1          NaN  1/10/2022 11:30  \n",
       "2          NaN  1/26/2022 10:52  \n",
       "3          NaN    1/3/2022 8:35  \n",
       "4          NaN  1/22/2022 14:14  "
      ]
     },
     "execution_count": 3,
     "metadata": {},
     "output_type": "execute_result"
    }
   ],
   "source": [
    "# Define file path\n",
    "file_path = r\"P:\\CarrerFoundy\\Data Visualizations with Python\\Achivement 2\\merged_citibike_data_2022.csv\"\n",
    "\n",
    "# Read CSV file\n",
    "df = pd.read_csv(file_path)\n",
    "\n",
    "# Display first few rows\n",
    "df.head()\n"
   ]
  },
  {
   "cell_type": "markdown",
   "id": "262a7a2f-6c82-4119-a5a9-4c3c264a852a",
   "metadata": {},
   "source": [
    "### 3. Created a new column with the value of 1."
   ]
  },
  {
   "cell_type": "code",
   "execution_count": 5,
   "id": "7c571102-ef06-4035-b9da-fb36c0150936",
   "metadata": {},
   "outputs": [
    {
     "name": "stdout",
     "output_type": "stream",
     "text": [
      "  start_station_name  end_station_name  trip_count\n",
      "0   1 Ave & E 110 St  1 Ave & E 110 St          27\n",
      "1   1 Ave & E 110 St   1 Ave & E 44 St           2\n",
      "2   1 Ave & E 110 St   1 Ave & E 68 St           1\n",
      "3   1 Ave & E 110 St   1 Ave & E 78 St           3\n",
      "4   1 Ave & E 110 St   1 Ave & E 94 St          15\n"
     ]
    }
   ],
   "source": [
    "# Add a column with a constant value of 1\n",
    "df[\"trip_count\"] = 1\n",
    "\n",
    "# Aggregate data to count trips between starting and ending stations\n",
    "aggregated_df = df.groupby([\"start_station_name\", \"end_station_name\"]).agg({\"trip_count\": \"sum\"}).reset_index()\n",
    "\n",
    "# Display the first few rows\n",
    "print(aggregated_df.head())\n"
   ]
  },
  {
   "cell_type": "code",
   "execution_count": 7,
   "id": "5a1d5a91-bc28-43d2-aad4-b650f7a922bc",
   "metadata": {},
   "outputs": [
    {
     "name": "stdout",
     "output_type": "stream",
     "text": [
      "Index(['ride_id', 'rideable_type', 'started_at', 'ended_at',\n",
      "       'start_station_name', 'start_station_id', 'end_station_name',\n",
      "       'end_station_id', 'start_lat', 'start_lng', 'end_lat', 'end_lng',\n",
      "       'member_casual', 'Unnamed: 13', 'Date_and_time', 'trip_count'],\n",
      "      dtype='object')\n"
     ]
    }
   ],
   "source": [
    "print(df.columns)\n"
   ]
  },
  {
   "cell_type": "markdown",
   "id": "a35a0280-12cc-40a6-b8fc-e5a111b7a86a",
   "metadata": {},
   "source": [
    "### 4. Initialized an instance of a kepler.gl map. "
   ]
  },
  {
   "cell_type": "code",
   "execution_count": 9,
   "id": "242a97c0-9299-4498-bf58-0ec70361dcb0",
   "metadata": {},
   "outputs": [
    {
     "name": "stdout",
     "output_type": "stream",
     "text": [
      "User Guide: https://docs.kepler.gl/docs/keplergl-jupyter\n"
     ]
    },
    {
     "data": {
      "application/vnd.jupyter.widget-view+json": {
       "model_id": "9a6917eb5b8b4c5bbec2396477b0a586",
       "version_major": 2,
       "version_minor": 0
      },
      "text/plain": [
       "KeplerGl(height=600)"
      ]
     },
     "execution_count": 9,
     "metadata": {},
     "output_type": "execute_result"
    }
   ],
   "source": [
    "from keplergl import KeplerGl\n",
    "\n",
    "# Initialize the map\n",
    "map_kepler = KeplerGl(height=600)\n",
    "\n",
    "# Display the map\n",
    "map_kepler\n"
   ]
  },
  {
   "cell_type": "code",
   "execution_count": 11,
   "id": "a2e348fd-fa00-4282-a8e9-c3d8fddd3afc",
   "metadata": {},
   "outputs": [
    {
     "name": "stdout",
     "output_type": "stream",
     "text": [
      "ride_id                     0\n",
      "rideable_type               0\n",
      "started_at                  0\n",
      "ended_at                    0\n",
      "start_station_name          0\n",
      "start_station_id            0\n",
      "end_station_name         9653\n",
      "end_station_id           9653\n",
      "start_lat                   0\n",
      "start_lng                   0\n",
      "end_lat                  6835\n",
      "end_lng                  6835\n",
      "member_casual               0\n",
      "Unnamed: 13           1048575\n",
      "Date_and_time               0\n",
      "trip_count                  0\n",
      "dtype: int64\n"
     ]
    }
   ],
   "source": [
    "print(df.isnull().sum())  # Check how many NaN values exist in each column\n"
   ]
  },
  {
   "cell_type": "code",
   "execution_count": 13,
   "id": "0a41b1a9-eb3a-4757-9f27-861339b6b034",
   "metadata": {},
   "outputs": [],
   "source": [
    "df.drop(columns=[\"Unnamed: 13\"], inplace=True)\n"
   ]
  },
  {
   "cell_type": "code",
   "execution_count": 15,
   "id": "3929d4bd-110f-4ff9-b876-9cc3d49f6f1f",
   "metadata": {},
   "outputs": [
    {
     "name": "stderr",
     "output_type": "stream",
     "text": [
      "C:\\Users\\sojan\\AppData\\Local\\Temp\\ipykernel_19280\\14498765.py:1: FutureWarning: A value is trying to be set on a copy of a DataFrame or Series through chained assignment using an inplace method.\n",
      "The behavior will change in pandas 3.0. This inplace method will never work because the intermediate object on which we are setting values always behaves as a copy.\n",
      "\n",
      "For example, when doing 'df[col].method(value, inplace=True)', try using 'df.method({col: value}, inplace=True)' or df[col] = df[col].method(value) instead, to perform the operation inplace on the original object.\n",
      "\n",
      "\n",
      "  df[\"end_station_name\"].fillna(\"Unknown\", inplace=True)\n",
      "C:\\Users\\sojan\\AppData\\Local\\Temp\\ipykernel_19280\\14498765.py:2: FutureWarning: A value is trying to be set on a copy of a DataFrame or Series through chained assignment using an inplace method.\n",
      "The behavior will change in pandas 3.0. This inplace method will never work because the intermediate object on which we are setting values always behaves as a copy.\n",
      "\n",
      "For example, when doing 'df[col].method(value, inplace=True)', try using 'df.method({col: value}, inplace=True)' or df[col] = df[col].method(value) instead, to perform the operation inplace on the original object.\n",
      "\n",
      "\n",
      "  df[\"end_station_id\"].fillna(\"Unknown\", inplace=True)\n"
     ]
    }
   ],
   "source": [
    "df[\"end_station_name\"].fillna(\"Unknown\", inplace=True)\n",
    "df[\"end_station_id\"].fillna(\"Unknown\", inplace=True)\n"
   ]
  },
  {
   "cell_type": "code",
   "execution_count": 17,
   "id": "687aa32c-5ed2-4679-8d37-66d9f31062a8",
   "metadata": {},
   "outputs": [],
   "source": [
    "df.dropna(subset=[\"end_station_name\", \"end_station_id\"], inplace=True)\n"
   ]
  },
  {
   "cell_type": "code",
   "execution_count": 19,
   "id": "861f134d-ed62-4a72-8575-c91700f36eba",
   "metadata": {},
   "outputs": [
    {
     "name": "stderr",
     "output_type": "stream",
     "text": [
      "C:\\Users\\sojan\\AppData\\Local\\Temp\\ipykernel_19280\\2919877763.py:1: FutureWarning: A value is trying to be set on a copy of a DataFrame or Series through chained assignment using an inplace method.\n",
      "The behavior will change in pandas 3.0. This inplace method will never work because the intermediate object on which we are setting values always behaves as a copy.\n",
      "\n",
      "For example, when doing 'df[col].method(value, inplace=True)', try using 'df.method({col: value}, inplace=True)' or df[col] = df[col].method(value) instead, to perform the operation inplace on the original object.\n",
      "\n",
      "\n",
      "  df[\"end_lat\"].fillna(df[\"start_lat\"], inplace=True)\n",
      "C:\\Users\\sojan\\AppData\\Local\\Temp\\ipykernel_19280\\2919877763.py:2: FutureWarning: A value is trying to be set on a copy of a DataFrame or Series through chained assignment using an inplace method.\n",
      "The behavior will change in pandas 3.0. This inplace method will never work because the intermediate object on which we are setting values always behaves as a copy.\n",
      "\n",
      "For example, when doing 'df[col].method(value, inplace=True)', try using 'df.method({col: value}, inplace=True)' or df[col] = df[col].method(value) instead, to perform the operation inplace on the original object.\n",
      "\n",
      "\n",
      "  df[\"end_lng\"].fillna(df[\"start_lng\"], inplace=True)\n"
     ]
    }
   ],
   "source": [
    "df[\"end_lat\"].fillna(df[\"start_lat\"], inplace=True)\n",
    "df[\"end_lng\"].fillna(df[\"start_lng\"], inplace=True)\n"
   ]
  },
  {
   "cell_type": "code",
   "execution_count": 25,
   "id": "5a94a2d7-be33-4b67-8f86-f871c295691a",
   "metadata": {},
   "outputs": [],
   "source": [
    "df_clean = df.dropna(subset=[\"start_lat\", \"start_lng\", \"end_lat\", \"end_lng\"])\n"
   ]
  },
  {
   "cell_type": "code",
   "execution_count": 27,
   "id": "30e24463-5395-48ae-b43b-327cfcc550e2",
   "metadata": {},
   "outputs": [],
   "source": [
    "import numpy as np\n",
    "\n",
    "df_clean = df_clean.replace([np.inf, -np.inf], np.nan)  # Replace infinite values with NaN\n",
    "df_clean = df_clean.dropna()  # Drop rows with NaN values\n"
   ]
  },
  {
   "cell_type": "code",
   "execution_count": 28,
   "id": "019f1b42-457d-4739-a2f4-07f43674bcc7",
   "metadata": {},
   "outputs": [],
   "source": [
    "map_kepler.add_data(data=df_clean, name=\"Bike Trips\")\n"
   ]
  },
  {
   "cell_type": "code",
   "execution_count": 30,
   "id": "4651dfbd-821f-4f6a-8ec4-c580db782140",
   "metadata": {},
   "outputs": [
    {
     "name": "stdout",
     "output_type": "stream",
     "text": [
      "Map saved to kepler_map.html!\n"
     ]
    }
   ],
   "source": [
    "map_kepler.save_to_html(file_name=\"kepler_map.html\")\n"
   ]
  },
  {
   "cell_type": "code",
   "execution_count": 31,
   "id": "ee8e2296-b3f1-404c-ba4f-0033a8baa3eb",
   "metadata": {},
   "outputs": [
    {
     "name": "stdout",
     "output_type": "stream",
     "text": [
      "Map saved to P:\\CarrerFoundy\\Data Visualizations with Python\\Achivement 2\\MyMaps\\kepler_map.html!\n"
     ]
    }
   ],
   "source": [
    "import os\n",
    "\n",
    "# Define the directory path\n",
    "save_path = r\"P:\\CarrerFoundy\\Data Visualizations with Python\\Achivement 2\\MyMaps\"\n",
    "\n",
    "# Create the directory if it doesn’t exist\n",
    "os.makedirs(save_path, exist_ok=True)\n",
    "\n",
    "# Save the Kepler map as an HTML file\n",
    "map_kepler.save_to_html(file_name=os.path.join(save_path, \"kepler_map.html\"))\n"
   ]
  },
  {
   "cell_type": "code",
   "execution_count": 32,
   "id": "3836211e-b343-4c42-9733-ad08ceff865e",
   "metadata": {},
   "outputs": [
    {
     "name": "stdout",
     "output_type": "stream",
     "text": [
      "            ride_id  rideable_type       started_at ended_at  \\\n",
      "0  BFD29218AB271154  electric_bike  2022/1/21 13:13  22:31.5   \n",
      "1  7C953F2FD7BE1302   classic_bike  2022/1/10 11:30  41:43.4   \n",
      "2  95893ABD40CED4B8  electric_bike  2022/1/26 10:52  06:35.2   \n",
      "3  F853B50772137378   classic_bike    2022/1/3 8:35  10:50.5   \n",
      "4  7590ADF834797B4B   classic_bike  2022/1/22 14:14  34:57.5   \n",
      "\n",
      "        start_station_name start_station_id             end_station_name  \\\n",
      "0  West End Ave & W 107 St          7650.05  Mt Morris Park W & W 120 St   \n",
      "1             4 Ave & 3 St          4028.04      Boerum Pl\\t& Pacific St   \n",
      "2          1 Ave & E 62 St          6753.08              5 Ave & E 29 St   \n",
      "3          2 Ave & E 96 St          7338.02              5 Ave & E 29 St   \n",
      "4          6 Ave & W 34 St           6364.1              5 Ave & E 29 St   \n",
      "\n",
      "  end_station_id  start_lat  start_lng    end_lat    end_lng member_casual  \\\n",
      "0        7685.14  40.802117 -73.968181  40.804038 -73.945925        member   \n",
      "1        4488.09  40.673746 -73.985649  40.688489 -73.991160        member   \n",
      "2        6248.06  40.761227 -73.960940  40.745168 -73.986831        member   \n",
      "3        6248.06  40.783964 -73.947167  40.745168 -73.986831        member   \n",
      "4        6248.06  40.749640 -73.988050  40.745168 -73.986831        member   \n",
      "\n",
      "     Date_and_time  trip_count  \n",
      "0  1/21/2022 13:13           1  \n",
      "1  1/10/2022 11:30           1  \n",
      "2  1/26/2022 10:52           1  \n",
      "3    1/3/2022 8:35           1  \n",
      "4  1/22/2022 14:14           1  \n",
      "                  ride_id  rideable_type       started_at ended_at  \\\n",
      "1048570  E926DC47A742B5F4  electric_bike   2022/2/6 12:35  02:27.0   \n",
      "1048571  C6B7D4BF04ADB9B3   classic_bike   2022/2/5 11:06  14:17.0   \n",
      "1048572  DFE14C6476CE60B9  electric_bike   2022/2/8 16:47  53:07.6   \n",
      "1048573  85A6BD75A4DF016D  electric_bike  2022/2/26 10:04  15:05.1   \n",
      "1048574  70098483D785BCD5   classic_bike    2022/2/1 6:35  49:03.3   \n",
      "\n",
      "                   start_station_name start_station_id  \\\n",
      "1048570             Kent Ave & N 7 St          5489.03   \n",
      "1048571  St Johns Pl & Washington Ave          4001.09   \n",
      "1048572     Greene Ave & Nostrand Ave          4519.02   \n",
      "1048573           W 113 St & Broadway          7713.01   \n",
      "1048574             Kent Ave & N 7 St          5489.03   \n",
      "\n",
      "                 end_station_name end_station_id  start_lat  start_lng  \\\n",
      "1048570   Putnam Ave & Throop Ave        4392.04  40.720368 -73.961651   \n",
      "1048571       Sterling Pl & 5 Ave        4208.01  40.673724 -73.963161   \n",
      "1048572   Putnam Ave & Throop Ave        4392.04  40.688334 -73.950916   \n",
      "1048573  Lexington Ave & E 111 St        7567.06  40.805973 -73.964928   \n",
      "1048574      Vernon Blvd & 50 Ave        6170.02  40.720368 -73.961651   \n",
      "\n",
      "           end_lat    end_lng member_casual    Date_and_time  trip_count  \n",
      "1048570  40.685153 -73.941110        member   2/6/2022 12:35           1  \n",
      "1048571  40.678970 -73.978553        member   2/5/2022 11:06           1  \n",
      "1048572  40.685153 -73.941110        member   2/8/2022 16:47           1  \n",
      "1048573  40.795412 -73.944123        member  2/26/2022 10:04           1  \n",
      "1048574  40.742327 -73.954117        member    2/1/2022 6:35           1  \n"
     ]
    }
   ],
   "source": [
    "print(df.head())\n",
    "print(df.tail())  # Check both ends of the dataset\n"
   ]
  },
  {
   "cell_type": "markdown",
   "id": "4965ef0b-f949-42a0-a5b7-34fb738e0328",
   "metadata": {},
   "source": [
    "### 5. Customized the output of the map."
   ]
  },
  {
   "cell_type": "code",
   "execution_count": 40,
   "id": "7d85175c-106f-4447-bea4-faa7906b7466",
   "metadata": {},
   "outputs": [],
   "source": [
    "df = pd.read_csv(file_path, dtype={\"start_station_id\": str, \"end_station_id\": str}, low_memory=False)\n"
   ]
  },
  {
   "cell_type": "code",
   "execution_count": 41,
   "id": "28c74ed5-49b0-4f0f-93c7-fd60b1285d57",
   "metadata": {},
   "outputs": [
    {
     "name": "stdout",
     "output_type": "stream",
     "text": [
      "ride_id                object\n",
      "rideable_type          object\n",
      "started_at             object\n",
      "ended_at               object\n",
      "start_station_name     object\n",
      "start_station_id       object\n",
      "end_station_name       object\n",
      "end_station_id         object\n",
      "start_lat             float64\n",
      "start_lng             float64\n",
      "end_lat               float64\n",
      "end_lng               float64\n",
      "member_casual          object\n",
      "Unnamed: 13           float64\n",
      "Date_and_time          object\n",
      "dtype: object\n"
     ]
    }
   ],
   "source": [
    "print(df.dtypes)  # Verify column types\n"
   ]
  },
  {
   "cell_type": "code",
   "execution_count": 44,
   "id": "e0a93926-6070-4277-9287-e4b481cc0820",
   "metadata": {},
   "outputs": [
    {
     "name": "stderr",
     "output_type": "stream",
     "text": [
      "C:\\Users\\sojan\\AppData\\Local\\Temp\\ipykernel_19280\\1249422866.py:6: DtypeWarning: Columns (5,7) have mixed types. Specify dtype option on import or set low_memory=False.\n",
      "  df = pd.read_csv(file_path)\n"
     ]
    },
    {
     "name": "stdout",
     "output_type": "stream",
     "text": [
      "User Guide: https://docs.kepler.gl/docs/keplergl-jupyter\n"
     ]
    },
    {
     "name": "stderr",
     "output_type": "stream",
     "text": [
      "P:\\CarrerFoundy\\Data Visualizations with Python\\Achivement 2\\CitiBike_Weather_Analysis\\venv\\Lib\\site-packages\\jupyter_client\\session.py:721: UserWarning: Message serialization failed with:\n",
      "Out of range float values are not JSON compliant: nan\n",
      "Supporting this message is deprecated in jupyter-client 7, please make sure your message is JSON-compliant\n",
      "  content = self.pack(content)\n"
     ]
    },
    {
     "data": {
      "application/vnd.jupyter.widget-view+json": {
       "model_id": "3b8f08bca58344bcba59b56504bf8850",
       "version_major": 2,
       "version_minor": 0
      },
      "text/plain": [
       "KeplerGl(config={'version': 'v1', 'config': {'visState': {'layers': [{'id': 'start_points_layer', 'type': 'poi…"
      ]
     },
     "execution_count": 44,
     "metadata": {},
     "output_type": "execute_result"
    }
   ],
   "source": [
    "from keplergl import KeplerGl\n",
    "import pandas as pd\n",
    "\n",
    "# Load your dataset\n",
    "file_path = r\"P:\\CarrerFoundy\\Data Visualizations with Python\\Achivement 2\\merged_citibike_data_2022.csv\"\n",
    "df = pd.read_csv(file_path)\n",
    "\n",
    "# Initialize KeplerGl map\n",
    "map_1 = KeplerGl(height=600)\n",
    "\n",
    "# Add data to the map\n",
    "map_1.add_data(data=df, name=\"Bike Trips\")\n",
    "\n",
    "# Custom configuration to change point and arc colors\n",
    "config = {\n",
    "    \"version\": \"v1\",\n",
    "    \"config\": {\n",
    "        \"visState\": {\n",
    "            \"layers\": [\n",
    "                {\n",
    "                    \"id\": \"start_points_layer\",\n",
    "                    \"type\": \"point\",\n",
    "                    \"config\": {\n",
    "                        \"dataId\": \"Bike Trips\",\n",
    "                        \"label\": \"Start Stations\",\n",
    "                        \"color\": [0, 128, 255],  # Blue points for start stations\n",
    "                        \"columns\": {\n",
    "                            \"lat\": \"start_lat\",\n",
    "                            \"lng\": \"start_lng\"\n",
    "                        },\n",
    "                        \"isVisible\": True\n",
    "                    }\n",
    "                },\n",
    "                {\n",
    "                    \"id\": \"end_points_layer\",\n",
    "                    \"type\": \"point\",\n",
    "                    \"config\": {\n",
    "                        \"dataId\": \"Bike Trips\",\n",
    "                        \"label\": \"End Stations\",\n",
    "                        \"color\": [255, 0, 0],  # Red points for end stations\n",
    "                        \"columns\": {\n",
    "                            \"lat\": \"end_lat\",\n",
    "                            \"lng\": \"end_lng\"\n",
    "                        },\n",
    "                        \"isVisible\": True\n",
    "                    }\n",
    "                },\n",
    "                {\n",
    "                    \"id\": \"arc_layer\",\n",
    "                    \"type\": \"arc\",\n",
    "                    \"config\": {\n",
    "                        \"dataId\": \"Bike Trips\",\n",
    "                        \"label\": \"Trip Arcs\",\n",
    "                        \"color\": [255, 140, 0],  # Orange arcs\n",
    "                        \"columns\": {\n",
    "                            \"lat0\": \"start_lat\",\n",
    "                            \"lng0\": \"start_lng\",\n",
    "                            \"lat1\": \"end_lat\",\n",
    "                            \"lng1\": \"end_lng\"\n",
    "                        },\n",
    "                        \"isVisible\": True,\n",
    "                        \"visConfig\": {\n",
    "                            \"opacity\": 0.6,\n",
    "                            \"thickness\": 2\n",
    "                        }\n",
    "                    }\n",
    "                }\n",
    "            ]\n",
    "        }\n",
    "    }\n",
    "}\n",
    "\n",
    "# Apply configuration\n",
    "map_1.config = config\n",
    "\n",
    "# Display map\n",
    "map_1\n"
   ]
  },
  {
   "cell_type": "markdown",
   "id": "8afa031c-b62d-4bed-a12c-77f4eefe093c",
   "metadata": {},
   "source": [
    "###  **Map Customization: Adjusting Colors and Adding Arcs**\n",
    "\n",
    "\n",
    "1. **Point Colors Adjusted**\n",
    "   - **Start Stations:** Set to **blue (RGB: 0, 128, 255)** to represent where trips begin.\n",
    "   - **End Stations:** Set to **red (RGB: 255, 0, 0)** to highlight destinations.\n",
    "\n",
    "2. **Arc Layer Customization**\n",
    "   - **Arc Color:** Changed to **orange (RGB: 255, 140, 0)** to visually separate trips from station points.\n",
    "   - **Opacity:** Set to **0.6** to reduce clutter when arcs overlap.\n",
    "   - **Thickness:** Adjusted to **2** for better visibility without overwhelming the map.\n",
    "\n",
    "\n",
    "- The **blue-red color scheme** clearly differentiates origins and destinations.\n",
    "- **Arcs illustrate movement** between stations, making trip patterns easier to understand.\n",
    "- **Opacity ensures overlapping arcs remain visible** without excessive visual noise.\n",
    "\n",
    "---\n"
   ]
  },
  {
   "cell_type": "markdown",
   "id": "dad6db5e-00e7-4667-a775-497a347eadae",
   "metadata": {},
   "source": [
    "### 6. Added a filter to the map and use it to see what the most common trips are in New York City."
   ]
  },
  {
   "cell_type": "code",
   "execution_count": 47,
   "id": "d2d2fc7b-944f-4f55-84a5-efb190bb696f",
   "metadata": {},
   "outputs": [
    {
     "name": "stdout",
     "output_type": "stream",
     "text": [
      "Index(['ride_id', 'rideable_type', 'started_at', 'ended_at',\n",
      "       'start_station_name', 'start_station_id', 'end_station_name',\n",
      "       'end_station_id', 'start_lat', 'start_lng', 'end_lat', 'end_lng',\n",
      "       'member_casual', 'Unnamed: 13', 'Date_and_time'],\n",
      "      dtype='object')\n"
     ]
    }
   ],
   "source": [
    "print(df.columns)  # Lists all available columns\n"
   ]
  },
  {
   "cell_type": "code",
   "execution_count": 49,
   "id": "c020bb52-228d-45ed-8da8-e90e13f820c2",
   "metadata": {},
   "outputs": [],
   "source": [
    "# Add a column with a value of 1 to count each trip\n",
    "df[\"trip_count\"] = 1  \n",
    "\n",
    "# Aggregate trip counts by start and end station\n",
    "trip_counts = df.groupby([\"start_station_name\", \"end_station_name\"]).agg({\"trip_count\": \"sum\"}).reset_index()\n",
    "\n",
    "# Merge back into the original dataset\n",
    "df = df.merge(trip_counts, on=[\"start_station_name\", \"end_station_name\"], how=\"left\")\n"
   ]
  },
  {
   "cell_type": "code",
   "execution_count": 51,
   "id": "b746e2a2-1cf8-4977-8d41-8ede6e9552f4",
   "metadata": {},
   "outputs": [
    {
     "name": "stdout",
     "output_type": "stream",
     "text": [
      "Index(['ride_id', 'rideable_type', 'started_at', 'ended_at',\n",
      "       'start_station_name', 'start_station_id', 'end_station_name',\n",
      "       'end_station_id', 'start_lat', 'start_lng', 'end_lat', 'end_lng',\n",
      "       'member_casual', 'Unnamed: 13', 'Date_and_time', 'trip_count_x',\n",
      "       'trip_count_y'],\n",
      "      dtype='object')\n"
     ]
    }
   ],
   "source": [
    "print(df.columns) "
   ]
  },
  {
   "cell_type": "code",
   "execution_count": 53,
   "id": "f8ccb9ab-e9b5-428f-b974-e5e4789a7595",
   "metadata": {},
   "outputs": [],
   "source": [
    "df.drop(columns=[\"trip_count_x\"], inplace=True)  # Remove the original placeholder column\n",
    "df.rename(columns={\"trip_count_y\": \"trip_count\"}, inplace=True)  # Rename the merged column\n"
   ]
  },
  {
   "cell_type": "code",
   "execution_count": 55,
   "id": "a0aab113-830a-4e93-86ff-7defd9caa65e",
   "metadata": {},
   "outputs": [
    {
     "name": "stdout",
     "output_type": "stream",
     "text": [
      "Index(['ride_id', 'rideable_type', 'started_at', 'ended_at',\n",
      "       'start_station_name', 'start_station_id', 'end_station_name',\n",
      "       'end_station_id', 'start_lat', 'start_lng', 'end_lat', 'end_lng',\n",
      "       'member_casual', 'Unnamed: 13', 'Date_and_time', 'trip_count'],\n",
      "      dtype='object')\n",
      "        start_station_name             end_station_name  trip_count\n",
      "0  West End Ave & W 107 St  Mt Morris Park W & W 120 St         3.0\n",
      "1             4 Ave & 3 St      Boerum Pl\\t& Pacific St         1.0\n",
      "2          1 Ave & E 62 St              5 Ave & E 29 St         3.0\n",
      "3          2 Ave & E 96 St              5 Ave & E 29 St         3.0\n",
      "4          6 Ave & W 34 St              5 Ave & E 29 St        15.0\n"
     ]
    }
   ],
   "source": [
    "print(df.columns)  # Verify that trip_count is correctly named\n",
    "print(df[[\"start_station_name\", \"end_station_name\", \"trip_count\"]].head())  # Check trip counts\n"
   ]
  },
  {
   "cell_type": "code",
   "execution_count": 57,
   "id": "b9ba83ca-733a-4757-89ce-2cc1c28cfb6f",
   "metadata": {},
   "outputs": [
    {
     "name": "stdout",
     "output_type": "stream",
     "text": [
      "User Guide: https://docs.kepler.gl/docs/keplergl-jupyter\n"
     ]
    },
    {
     "name": "stderr",
     "output_type": "stream",
     "text": [
      "P:\\CarrerFoundy\\Data Visualizations with Python\\Achivement 2\\CitiBike_Weather_Analysis\\venv\\Lib\\site-packages\\jupyter_client\\session.py:721: UserWarning: Message serialization failed with:\n",
      "Out of range float values are not JSON compliant: nan\n",
      "Supporting this message is deprecated in jupyter-client 7, please make sure your message is JSON-compliant\n",
      "  content = self.pack(content)\n"
     ]
    },
    {
     "data": {
      "application/vnd.jupyter.widget-view+json": {
       "model_id": "7f002ce5f6694fa3b9f6ea267da8f6f9",
       "version_major": 2,
       "version_minor": 0
      },
      "text/plain": [
       "KeplerGl(config={'version': 'v1', 'config': {'visState': {'filters': [{'dataId': 'NYC Bike Trips', 'id': 'trip…"
      ]
     },
     "execution_count": 57,
     "metadata": {},
     "output_type": "execute_result"
    }
   ],
   "source": [
    "from keplergl import KeplerGl\n",
    "\n",
    "map_1 = KeplerGl(height=600)\n",
    "map_1.add_data(data=df, name=\"NYC Bike Trips\")\n",
    "\n",
    "# Configure filter for the most common trips\n",
    "config = {\n",
    "    \"version\": \"v1\",\n",
    "    \"config\": {\n",
    "        \"visState\": {\n",
    "            \"filters\": [\n",
    "                {\n",
    "                    \"dataId\": \"NYC Bike Trips\",\n",
    "                    \"id\": \"trip_count_filter\",\n",
    "                    \"name\": \"trip_count\",\n",
    "                    \"type\": \"range\",\n",
    "                    \"value\": [100, df[\"trip_count\"].max()],  # Adjust range based on actual values\n",
    "                    \"enlarged\": True\n",
    "                }\n",
    "            ]\n",
    "        }\n",
    "    }\n",
    "}\n",
    "\n",
    "map_1.config = config\n",
    "map_1\n"
   ]
  },
  {
   "cell_type": "markdown",
   "id": "896d94a5-3895-432d-abed-99baf29b4683",
   "metadata": {},
   "source": [
    " **NYC Citi Bike Trip Analysis with Filters**\n",
    "\n",
    "\n",
    "1. Most Common Trips\n",
    "   - The highest trip densities are in **Manhattan, especially Midtown & Downtown**.\n",
    "   - **Bridges between Brooklyn and Manhattan** are heavily used.\n",
    "   - **Tourist areas** (e.g., Central Park, Financial District) show high weekend activity.\n",
    "\n",
    "2. Possible Causes\n",
    "   - **Commuters rely on Citi Bike for first-mile/last-mile transport.**\n",
    "   - **Tourists and leisure riders contribute to weekend surges.**\n",
    "   - **Bike lane improvements lead to higher usage in key areas.**\n",
    "     \n",
    "3.  Additional Research\n",
    "\n",
    "    Commuter Demand: Citi Bike serves as a last-mile solution for NYC workers.\n",
    "    Tourist Influence: Popular attractions drive casual riders, especially on weekends.\n",
    "    Infrastructure Impact: Protected bike lanes (e.g., 8th Ave, 2nd Ave) increase ridership.\n",
    "\n",
    "This analysis highlights how bike-sharing services align with urban mobility needs, helping commuters and tourists navigate NYC efficiently.\n"
   ]
  },
  {
   "cell_type": "markdown",
   "id": "9ce66472-31ec-47d3-84b7-143cf7c6ffb9",
   "metadata": {},
   "source": [
    "### 7. Creatd a config object and save the map with it."
   ]
  },
  {
   "cell_type": "code",
   "execution_count": 60,
   "id": "9077d56a-0f31-4d7a-a5ad-2d8d1258e739",
   "metadata": {},
   "outputs": [
    {
     "name": "stdout",
     "output_type": "stream",
     "text": [
      "Kepler configuration saved at: P:\\CarrerFoundy\\Data Visualizations with Python\\Achivement 2\\kepler_config.json\n"
     ]
    }
   ],
   "source": [
    "import json\n",
    "\n",
    "# Extract the current map configuration\n",
    "config = map_1.config\n",
    "\n",
    "# Save the config to a JSON file\n",
    "config_path = r\"P:\\CarrerFoundy\\Data Visualizations with Python\\Achivement 2\\kepler_config.json\"\n",
    "with open(config_path, \"w\") as f:\n",
    "    json.dump(config, f)\n",
    "\n",
    "print(f\"Kepler configuration saved at: {config_path}\")\n"
   ]
  },
  {
   "cell_type": "code",
   "execution_count": 62,
   "id": "83dceed4-73ed-4928-ac4c-da6db4970319",
   "metadata": {},
   "outputs": [
    {
     "name": "stdout",
     "output_type": "stream",
     "text": [
      "User Guide: https://docs.kepler.gl/docs/keplergl-jupyter\n"
     ]
    },
    {
     "name": "stderr",
     "output_type": "stream",
     "text": [
      "P:\\CarrerFoundy\\Data Visualizations with Python\\Achivement 2\\CitiBike_Weather_Analysis\\venv\\Lib\\site-packages\\jupyter_client\\session.py:721: UserWarning: Message serialization failed with:\n",
      "Out of range float values are not JSON compliant: nan\n",
      "Supporting this message is deprecated in jupyter-client 7, please make sure your message is JSON-compliant\n",
      "  content = self.pack(content)\n"
     ]
    },
    {
     "data": {
      "application/vnd.jupyter.widget-view+json": {
       "model_id": "96d2377c76de4b1d9e6b3441aa111b69",
       "version_major": 2,
       "version_minor": 0
      },
      "text/plain": [
       "KeplerGl(config={'version': 'v1', 'config': {'visState': {'filters': [{'dataId': 'NYC Bike Trips', 'id': 'trip…"
      ]
     },
     "execution_count": 62,
     "metadata": {},
     "output_type": "execute_result"
    }
   ],
   "source": [
    "# Load the saved config\n",
    "with open(config_path, \"r\") as f:\n",
    "    saved_config = json.load(f)\n",
    "\n",
    "# Create a new map and apply the saved configuration\n",
    "map_2 = KeplerGl(height=600, config=saved_config)\n",
    "map_2.add_data(data=df, name=\"NYC Bike Trips\")\n",
    "\n",
    "# Display the restored map\n",
    "map_2\n"
   ]
  },
  {
   "cell_type": "code",
   "execution_count": 63,
   "id": "4dc8ac54-ed87-4a37-b89e-0bd18a1ef98d",
   "metadata": {},
   "outputs": [
    {
     "name": "stdout",
     "output_type": "stream",
     "text": [
      "Map saved to P:\\CarrerFoundy\\Data Visualizations with Python\\Achivement 2\\kepler_map.html!\n",
      "Map saved as kepler_map.html\n"
     ]
    }
   ],
   "source": [
    "map_1.save_to_html(file_name=r\"P:\\CarrerFoundy\\Data Visualizations with Python\\Achivement 2\\kepler_map.html\")\n",
    "print(\"Map saved as kepler_map.html\")\n"
   ]
  },
  {
   "cell_type": "code",
   "execution_count": null,
   "id": "2e2a4a75-6eb4-45a5-b27e-745b52619d73",
   "metadata": {},
   "outputs": [],
   "source": []
  }
 ],
 "metadata": {
  "kernelspec": {
   "display_name": "Python (venv)",
   "language": "python",
   "name": "venv"
  },
  "language_info": {
   "codemirror_mode": {
    "name": "ipython",
    "version": 3
   },
   "file_extension": ".py",
   "mimetype": "text/x-python",
   "name": "python",
   "nbconvert_exporter": "python",
   "pygments_lexer": "ipython3",
   "version": "3.12.3"
  }
 },
 "nbformat": 4,
 "nbformat_minor": 5
}
